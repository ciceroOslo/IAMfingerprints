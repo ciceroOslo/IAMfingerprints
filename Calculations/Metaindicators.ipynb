{
 "cells": [
  {
   "cell_type": "markdown",
   "metadata": {},
   "source": [
    "#### Script to compute model fingerprints expressed in Tab. 1 of the main text"
   ]
  },
  {
   "cell_type": "markdown",
   "metadata": {},
   "source": [
    "##### Preambule"
   ]
  },
  {
   "cell_type": "code",
   "execution_count": 1,
   "metadata": {},
   "outputs": [],
   "source": [
    "import numpy as np\n",
    "import xarray as xr\n",
    "import yaml"
   ]
  },
  {
   "cell_type": "markdown",
   "metadata": {},
   "source": [
    "##### Read config file"
   ]
  },
  {
   "cell_type": "code",
   "execution_count": 2,
   "metadata": {},
   "outputs": [],
   "source": [
    "with open(\"../Configuration/config.yaml\", \"r\") as stream:\n",
    "    settings = yaml.load(stream, Loader=yaml.Loader)\n",
    "list_of_models = [settings['models'][m]['full_name'] for m in settings['models'].keys()]\n",
    "list_of_colors = [settings['models'][m]['color'] for m in settings['models'].keys()]"
   ]
  },
  {
   "cell_type": "markdown",
   "metadata": {},
   "source": [
    "##### Read data"
   ]
  },
  {
   "cell_type": "code",
   "execution_count": 3,
   "metadata": {},
   "outputs": [],
   "source": [
    "ind_xr = xr.open_dataset(settings['paths']['data']['output']+\"XRindicators.nc\").sel(Model=settings['models_touse'])"
   ]
  },
  {
   "cell_type": "code",
   "execution_count": 4,
   "metadata": {},
   "outputs": [],
   "source": [
    "list_of_models_resorted = ['WITCH 5.0', 'PRIMES 2022', 'MESSAGEix-GLOBIOM 1.2', 'PROMETHEUS 1.2', 'IMAGE 3.2', 'REMIND 2.1', 'Euro-Calliope 2.0', 'TIAM-ECN 1.2']\n",
    "list_of_models_resorted2 = ['REMIND 2.1', 'Euro-Calliope 2.0', 'IMAGE 3.2', 'PRIMES 2022', 'PROMETHEUS 1.2', 'WITCH 5.0', 'MESSAGEix-GLOBIOM 1.2', 'TIAM-ECN 1.2']"
   ]
  },
  {
   "cell_type": "markdown",
   "metadata": {},
   "source": [
    "##### Compute"
   ]
  },
  {
   "cell_type": "code",
   "execution_count": 5,
   "metadata": {},
   "outputs": [
    {
     "name": "stdout",
     "output_type": "stream",
     "text": [
      "REMIND 2.1            | T: 1.6        | S: 1.33       |\n",
      "Euro-Calliope 2.0     | T: 0.4        | S: 1.29       |\n",
      "IMAGE 3.2             | T: nan        | S: -0.26      |\n",
      "PRIMES 2022           | T: 0.0        | S: -0.07      |\n",
      "PROMETHEUS 1.2        | T: -0.34      | S: 0.19       |\n",
      "WITCH 5.0             | T: -0.43      | S: 0.57       |\n",
      "MESSAGEix-GLOBIOM 1.2 | T: nan        | S: nan        |\n",
      "TIAM-ECN 1.2          | T: -1.52      | S: -0.14      |\n"
     ]
    }
   ],
   "source": [
    "indlists = [[\"R1_rai\"],\n",
    " [\"R4_sensprim\", \"R5_sensdem\"]]\n",
    "indnames = ['Tax resp', 'Scen resp']\n",
    "\n",
    "for model in list_of_models_resorted2:\n",
    "    output_line = f\"{model:<21} |\"\n",
    "    \n",
    "    for inds_i, inds in enumerate(indlists):\n",
    "        vals = []\n",
    "        \n",
    "        for ind in inds:\n",
    "            std_ens = ind_xr.sel(Indicator=ind, Time=2050, Region='Europe', Model=settings['models_touse'], Scenario=settings['scenarios_c400']).std()\n",
    "            med_ens = ind_xr.sel(Indicator=ind, Time=2050, Region='Europe', Model=settings['models_touse'], Scenario=settings['scenarios_c400']).median()\n",
    "            med_mod = ind_xr.sel(Indicator=ind, Time=2050, Region='Europe', Model=model, Scenario=settings['scenarios_c400']).median()\n",
    "            vals.append(float(((med_mod - med_ens) / std_ens).Value))\n",
    "        \n",
    "        output_line += f\" {indnames[inds_i][0]}: {np.round(np.mean(vals), 2):<10} |\"\n",
    "    \n",
    "    print(output_line)"
   ]
  },
  {
   "cell_type": "code",
   "execution_count": 6,
   "metadata": {},
   "outputs": [
    {
     "name": "stdout",
     "output_type": "stream",
     "text": [
      "REMIND 2.1            | M1_cir: 1.1        | M2_eir: -0.2       | M3_cc: 0.4        | M4_nonco2: -1.0       |\n",
      "Euro-Calliope 2.0     | M1_cir: 0.4        | M2_eir: -0.6       | M3_cc: nan        | M4_nonco2: nan        |\n",
      "IMAGE 3.2             | M1_cir: -0.1       | M2_eir: -0.0       | M3_cc: 2.5        | M4_nonco2: -1.4       |\n",
      "PRIMES 2022           | M1_cir: 0.0        | M2_eir: 0.1        | M3_cc: -0.1       | M4_nonco2: 0.9        |\n",
      "PROMETHEUS 1.2        | M1_cir: -0.5       | M2_eir: 0.5        | M3_cc: -0.7       | M4_nonco2: nan        |\n",
      "WITCH 5.0             | M1_cir: -0.6       | M2_eir: 1.7        | M3_cc: 1.7        | M4_nonco2: -0.0       |\n",
      "MESSAGEix-GLOBIOM 1.2 | M1_cir: nan        | M2_eir: nan        | M3_cc: nan        | M4_nonco2: nan        |\n",
      "TIAM-ECN 1.2          | M1_cir: -1.9       | M2_eir: -1.7       | M3_cc: -0.1       | M4_nonco2: 1.7        |\n"
     ]
    }
   ],
   "source": [
    "inds = [\"M1_cir\", \"M2_eir\", \"M3_cc\", \"M4_nonco2\"]\n",
    "for model in list_of_models_resorted2:\n",
    "    output_line = f\"{model:<21} |\"\n",
    "    \n",
    "    for ind in inds:\n",
    "        std_ens = ind_xr.sel(Indicator=ind, Time=2050, Region='Europe', Scenario=settings['scenarios_c400']).std()\n",
    "        med_ens = ind_xr.sel(Indicator=ind, Time=2050, Region='Europe', Scenario=settings['scenarios_c400']).median()\n",
    "        med_mod = ind_xr.sel(Indicator=ind, Time=2050, Region='Europe', Model=model, Scenario=settings['scenarios_c400']).median()\n",
    "        \n",
    "        output_line += f\" {ind}: {np.round(float(((med_mod - med_ens) / std_ens).Value), 1):<10} |\"\n",
    "    \n",
    "    print(output_line)"
   ]
  },
  {
   "cell_type": "code",
   "execution_count": 7,
   "metadata": {},
   "outputs": [
    {
     "name": "stdout",
     "output_type": "stream",
     "text": [
      "REMIND 2.1            | F: -0.5       | R: 0.31       | O: 0.1        |\n",
      "Euro-Calliope 2.0     | F: -0.74      | R: 0.82       | O: -0.67      |\n",
      "IMAGE 3.2             | F: 1.79       | R: -1.15      | O: -0.03      |\n",
      "PRIMES 2022           | F: 0.21       | R: -0.28      | O: -0.37      |\n",
      "PROMETHEUS 1.2        | F: 0.71       | R: -1.16      | O: 2.02       |\n",
      "WITCH 5.0             | F: 1.05       | R: -0.39      | O: 0.24       |\n",
      "MESSAGEix-GLOBIOM 1.2 | F: nan        | R: nan        | O: nan        |\n",
      "TIAM-ECN 1.2          | F: 1.54       | R: -0.78      | O: 0.31       |\n"
     ]
    }
   ],
   "source": [
    "indlists = [['ES1_coal', 'ES2_oil', 'ES3_gas'],\n",
    " ['ES5_wind', 'ES4_solar'],\n",
    " ['ES6_biomass', 'ES7_nuclear']]\n",
    "indnames = ['Fossil', 'Renew', 'Other']\n",
    "\n",
    "for model in list_of_models_resorted2:\n",
    "    output_line = f\"{model:<21} |\"\n",
    "    \n",
    "    for inds_i, inds in enumerate(indlists):\n",
    "        vals = []\n",
    "        \n",
    "        for ind in inds:\n",
    "            std_ens = ind_xr.sel(Indicator=ind, Time=2050, Region='Europe', Model=settings['models_touse'], Scenario=settings['scenarios_c400']).std()\n",
    "            med_ens = ind_xr.sel(Indicator=ind, Time=2050, Region='Europe', Model=settings['models_touse'], Scenario=settings['scenarios_c400']).median()\n",
    "            med_mod = ind_xr.sel(Indicator=ind, Time=2050, Region='Europe', Model=model, Scenario=settings['scenarios_c400']).median()\n",
    "            vals.append(float(((med_mod - med_ens) / std_ens).Value))\n",
    "        \n",
    "        output_line += f\" {indnames[inds_i][0]}: {np.round(np.mean(vals), 2):<10} |\"\n",
    "    \n",
    "    print(output_line)"
   ]
  },
  {
   "cell_type": "code",
   "execution_count": 8,
   "metadata": {},
   "outputs": [
    {
     "name": "stdout",
     "output_type": "stream",
     "text": [
      "REMIND 2.1            | E: 0.61       |\n",
      "Euro-Calliope 2.0     | E: nan        |\n",
      "IMAGE 3.2             | E: -0.66      |\n",
      "PRIMES 2022           | E: -0.31      |\n",
      "PROMETHEUS 1.2        | E: -0.2       |\n",
      "WITCH 5.0             | E: 0.48       |\n",
      "MESSAGEix-GLOBIOM 1.2 | E: nan        |\n",
      "TIAM-ECN 1.2          | E: -1.21      |\n"
     ]
    }
   ],
   "source": [
    "indlists = [[\"ED1_etrans\", \"ED2_eindus\", \"ED3_ebuild\"]]\n",
    "indnames = ['Elec']\n",
    "\n",
    "for model in list_of_models_resorted2:\n",
    "    output_line = f\"{model:<21} |\"\n",
    "    \n",
    "    for inds_i, inds in enumerate(indlists):\n",
    "        vals = []\n",
    "        \n",
    "        for ind in inds:\n",
    "            std_ens = ind_xr.sel(Indicator=ind, Time=2050, Region='Europe', Model=settings['models_touse'], Scenario=settings['scenarios_c400']).std()\n",
    "            med_ens = ind_xr.sel(Indicator=ind, Time=2050, Region='Europe', Model=settings['models_touse'], Scenario=settings['scenarios_c400']).median()\n",
    "            med_mod = ind_xr.sel(Indicator=ind, Time=2050, Region='Europe', Model=model, Scenario=settings['scenarios_c400']).median()\n",
    "            vals.append(float(((med_mod - med_ens) / std_ens).Value))\n",
    "        \n",
    "        output_line += f\" {indnames[inds_i][0]}: {np.round(np.mean(vals), 2):<10} |\"\n",
    "    \n",
    "    print(output_line)"
   ]
  },
  {
   "cell_type": "code",
   "execution_count": 9,
   "metadata": {},
   "outputs": [
    {
     "name": "stdout",
     "output_type": "stream",
     "text": [
      "REMIND 2.1            | C: -0.93      |\n",
      "Euro-Calliope 2.0     | C: nan        |\n",
      "IMAGE 3.2             | C: nan        |\n",
      "PRIMES 2022           | C: nan        |\n",
      "PROMETHEUS 1.2        | C: nan        |\n",
      "WITCH 5.0             | C: 0.01       |\n",
      "MESSAGEix-GLOBIOM 1.2 | C: nan        |\n",
      "TIAM-ECN 1.2          | C: 1.71       |\n"
     ]
    }
   ],
   "source": [
    "indlists = [[\"C1_cost\"]]\n",
    "indnames = ['Costs']\n",
    "\n",
    "for model in list_of_models_resorted2:\n",
    "    output_line = f\"{model:<21} |\"\n",
    "    \n",
    "    for inds_i, inds in enumerate(indlists):\n",
    "        vals = []\n",
    "        \n",
    "        for ind in inds:\n",
    "            std_ens = ind_xr.sel(Indicator=ind, Time=2050, Region='Europe', Model=settings['models_touse'], Scenario=settings['scenarios_c400']).std()\n",
    "            med_ens = ind_xr.sel(Indicator=ind, Time=2050, Region='Europe', Model=settings['models_touse'], Scenario=settings['scenarios_c400']).median()\n",
    "            med_mod = ind_xr.sel(Indicator=ind, Time=2050, Region='Europe', Model=model, Scenario=settings['scenarios_c400']).median()\n",
    "            vals.append(float(((med_mod - med_ens) / std_ens).Value))\n",
    "        \n",
    "        output_line += f\" {indnames[inds_i][0]}: {np.round(np.mean(vals), 2):<10} |\"\n",
    "    \n",
    "    print(output_line)"
   ]
  },
  {
   "cell_type": "code",
   "execution_count": 10,
   "metadata": {},
   "outputs": [
    {
     "name": "stdout",
     "output_type": "stream",
     "text": [
      "WITCH 5.0             | C1_cost: 0.0        | C2_ti: -0.9       | C3_dem: 0.9        |\n",
      "PRIMES 2022           | C1_cost: nan        | C2_ti: 0.0        | C3_dem: -0.1       |\n",
      "MESSAGEix-GLOBIOM 1.2 | C1_cost: nan        | C2_ti: nan        | C3_dem: nan        |\n",
      "PROMETHEUS 1.2        | C1_cost: nan        | C2_ti: -0.7       | C3_dem: -0.8       |\n",
      "IMAGE 3.2             | C1_cost: nan        | C2_ti: -1.5       | C3_dem: 0.8        |\n",
      "REMIND 2.1            | C1_cost: -0.9       | C2_ti: 0.9        | C3_dem: 0.3        |\n",
      "Euro-Calliope 2.0     | C1_cost: nan        | C2_ti: 1.3        | C3_dem: nan        |\n",
      "TIAM-ECN 1.2          | C1_cost: 1.7        | C2_ti: -1.2       | C3_dem: -1.9       |\n"
     ]
    }
   ],
   "source": [
    "# inds = [\"R1_rai\", \"R2_time\", \"R3_speedmax\", \"R4_sensprim\", \"R5_sensdem\"]\n",
    "# inds = [\"M1_cir\", \"M2_eir\", \"M3_cc\", \"M4_nonco2\"]\n",
    "# inds = [\"ES1_coal\", \"ES2_oil\", \"ES3_gas\", \"ES4_solar\", \"ES5_wind\", \"ES6_biomass\", \"ES7_nuclear\"]\n",
    "# inds = [\"ED1_etrans\", \"ED2_eindus\", \"ED3_ebuild\", \"ED4_emise\", \"ED5_hydrogen\"]\n",
    "inds = [\"C1_cost\", \"C2_ti\", \"C3_dem\"]\n",
    "\n",
    "for model in list_of_models_resorted:\n",
    "    output_line = f\"{model:<21} |\"\n",
    "    \n",
    "    for ind in inds:\n",
    "        std_ens = ind_xr.sel(Indicator=ind, Time=2050, Region='Europe', Scenario=settings['scenarios_c400']).std()\n",
    "        med_ens = ind_xr.sel(Indicator=ind, Time=2050, Region='Europe', Scenario=settings['scenarios_c400']).median()\n",
    "        med_mod = ind_xr.sel(Indicator=ind, Time=2050, Region='Europe', Model=model, Scenario=settings['scenarios_c400']).median()\n",
    "        \n",
    "        output_line += f\" {ind}: {np.round(float(((med_mod - med_ens) / std_ens).Value), 1):<10} |\"\n",
    "    \n",
    "    print(output_line)"
   ]
  },
  {
   "cell_type": "code",
   "execution_count": 11,
   "metadata": {},
   "outputs": [
    {
     "data": {
      "text/plain": [
       "['C1_cost', 'C2_ti', 'C3_dem']"
      ]
     },
     "execution_count": 11,
     "metadata": {},
     "output_type": "execute_result"
    }
   ],
   "source": [
    "inds"
   ]
  }
 ],
 "metadata": {
  "kernelspec": {
   "display_name": "MyEnv",
   "language": "python",
   "name": "python3"
  },
  "language_info": {
   "codemirror_mode": {
    "name": "ipython",
    "version": 3
   },
   "file_extension": ".py",
   "mimetype": "text/x-python",
   "name": "python",
   "nbconvert_exporter": "python",
   "pygments_lexer": "ipython3",
   "version": "3.11.7"
  },
  "orig_nbformat": 4
 },
 "nbformat": 4,
 "nbformat_minor": 2
}
